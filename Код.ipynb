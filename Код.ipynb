{
  "nbformat": 4,
  "nbformat_minor": 0,
  "metadata": {
    "colab": {
      "provenance": [],
      "authorship_tag": "ABX9TyNXjtbS2XBHGVjlrjIMLFBZ",
      "include_colab_link": true
    },
    "kernelspec": {
      "name": "python3",
      "display_name": "Python 3"
    },
    "language_info": {
      "name": "python"
    }
  },
  "cells": [
    {
      "cell_type": "markdown",
      "metadata": {
        "id": "view-in-github",
        "colab_type": "text"
      },
      "source": [
        "<a href=\"https://colab.research.google.com/github/BlackHunterRU/JOPAAAAA/blob/main/%D0%9A%D0%BE%D0%B4.ipynb\" target=\"_parent\"><img src=\"https://colab.research.google.com/assets/colab-badge.svg\" alt=\"Open In Colab\"/></a>"
      ]
    },
    {
      "cell_type": "markdown",
      "source": [],
      "metadata": {
        "id": "VR4cjcPdXElK"
      }
    },
    {
      "cell_type": "code",
      "source": [
        "pip install pytelegrambotapi\n",
        "import telebot;\n",
        "bot = telebot.TeleBot('7092122520:AAEpxYJjgmIcg9Cj95CNMAglajnbS_J2AYg');\n",
        "@bot.message_handler(content_types=['text'])\n",
        "def get_text_messages(message):\n",
        "  @bot.message_handler(content_types=['text', 'document', 'audio'])\n",
        "if message.text == \"Привет\":\n",
        "    bot.send_message(message.from_user.id, \"Привет, чем я могу тебе помочь?\")\n",
        "elif message.text == \"/help\":\n",
        "    bot.send_message(message.from_user.id, \"Напиши привет\")\n",
        "else:\n",
        "    bot.send_message(message.from_user.id, \"Я тебя не понимаю. Напиши /help.\")\n",
        "bot.polling(none_stop=True, interval=0)"
      ],
      "metadata": {
        "colab": {
          "base_uri": "https://localhost:8080/",
          "height": 105
        },
        "id": "Ts_oewDMj6Mv",
        "outputId": "87501a0e-b738-4831-b7d8-be7e359796af"
      },
      "execution_count": 172,
      "outputs": [
        {
          "output_type": "error",
          "ename": "SyntaxError",
          "evalue": "invalid syntax (<ipython-input-172-14b1711c6830>, line 1)",
          "traceback": [
            "\u001b[0;36m  File \u001b[0;32m\"<ipython-input-172-14b1711c6830>\"\u001b[0;36m, line \u001b[0;32m1\u001b[0m\n\u001b[0;31m    pip install pytelegrambotapi\u001b[0m\n\u001b[0m        ^\u001b[0m\n\u001b[0;31mSyntaxError\u001b[0m\u001b[0;31m:\u001b[0m invalid syntax\n"
          ]
        }
      ]
    },
    {
      "cell_type": "code",
      "source": [],
      "metadata": {
        "id": "3PKqFN67lkmY"
      },
      "execution_count": null,
      "outputs": []
    }
  ]
}